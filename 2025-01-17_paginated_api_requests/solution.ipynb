{
 "cells": [
  {
   "cell_type": "code",
   "execution_count": 67,
   "metadata": {},
   "outputs": [],
   "source": [
    "headers = {}\n",
    "headers['Authozarion'] = 'xxxx'"
   ]
  },
  {
   "cell_type": "code",
   "execution_count": 68,
   "metadata": {},
   "outputs": [
    {
     "data": {
      "text/plain": [
       "'https://jsonplaceholder.typicode.com/posts?_page=1'"
      ]
     },
     "execution_count": 68,
     "metadata": {},
     "output_type": "execute_result"
    }
   ],
   "source": [
    "url = 'https://jsonplaceholder.typicode.com'\n",
    "endpoint = 'posts'\n",
    "page = 1\n",
    "url_complete = f'{url}/{endpoint}?_page={page}'\n",
    "\n",
    "url_complete"
   ]
  },
  {
   "cell_type": "code",
   "execution_count": 69,
   "metadata": {},
   "outputs": [
    {
     "data": {
      "text/plain": [
       "10"
      ]
     },
     "execution_count": 69,
     "metadata": {},
     "output_type": "execute_result"
    }
   ],
   "source": [
    "import requests\n",
    "\n",
    "data = requests.get(url_complete, headers=headers).json()\n",
    "\n",
    "len(data)"
   ]
  },
  {
   "cell_type": "code",
   "execution_count": 70,
   "metadata": {},
   "outputs": [
    {
     "name": "stdout",
     "output_type": "stream",
     "text": [
      "qtd de dicionarios: 100\n",
      "qtd de paginas: 10\n"
     ]
    }
   ],
   "source": [
    "data_list = []\n",
    "data_size = 0\n",
    "page = 1\n",
    "\n",
    "\n",
    "while True:\n",
    "    try:\n",
    "        url_complete = f'{url}/{endpoint}?_page={page}'\n",
    "        req = requests.get(url_complete)\n",
    "        \n",
    "        if req.status_code != 200:\n",
    "            print(f'erro: {req.status_code}')\n",
    "            break\n",
    "        \n",
    "        if not req.json():\n",
    "            break \n",
    "\n",
    "        data_list.append(req.json())\n",
    "        data_size += len(req.json())\n",
    "        page += 1\n",
    "\n",
    "    except:\n",
    "        break\n",
    "\n",
    "\n",
    "print(f'qtd de dicionarios: {data_size}')\n",
    "print(f'qtd de paginas: {len(data_list)}')"
   ]
  }
 ],
 "metadata": {
  "kernelspec": {
   "display_name": "Python 3",
   "language": "python",
   "name": "python3"
  },
  "language_info": {
   "codemirror_mode": {
    "name": "ipython",
    "version": 3
   },
   "file_extension": ".py",
   "mimetype": "text/x-python",
   "name": "python",
   "nbconvert_exporter": "python",
   "pygments_lexer": "ipython3",
   "version": "3.12.2"
  }
 },
 "nbformat": 4,
 "nbformat_minor": 2
}
