{
 "cells": [
  {
   "cell_type": "code",
   "execution_count": null,
   "metadata": {},
   "outputs": [],
   "source": [
    "import requests\n",
    "\n",
    "url = 'https://api.itbook.store/1.0/new'\n",
    "\n",
    "req = requests.get(url)\n",
    "\n",
    "if req.status_code == 200:\n",
    "    data = req.json()\n",
    "else:\n",
    "    print(f'erro: {req.status_code}')\n",
    "    data = []\n",
    "\n",
    "data"
   ]
  },
  {
   "cell_type": "code",
   "execution_count": null,
   "metadata": {},
   "outputs": [],
   "source": [
    "data['books'][11]"
   ]
  },
  {
   "cell_type": "code",
   "execution_count": null,
   "metadata": {},
   "outputs": [],
   "source": [
    "# book_title = []\n",
    "# book_price = []\n",
    "\n",
    "# for book in data['books']:\n",
    "#     book_title.append(book['title'])\n",
    "#     book_price.append(book['price'])\n",
    "\n",
    "################\n",
    "################\n",
    "\n",
    "# optimized format\n",
    "book_title = [book['title'] for book in data['books']]\n",
    "book_price = [book['title'] for book in data['books']]\n",
    "\n",
    "\n",
    "book_title"
   ]
  },
  {
   "cell_type": "code",
   "execution_count": null,
   "metadata": {},
   "outputs": [],
   "source": [
    "import pandas as pd\n",
    "\n",
    "# df = pd.DataFrame()\n",
    "\n",
    "# df['book_title'] = book_title\n",
    "# df['book_price'] = book_price\n",
    "\n",
    "################\n",
    "################\n",
    "\n",
    "# df = pd.DataFrame()\n",
    "\n",
    "# df = {\n",
    "#     'book_title' : book_title,\n",
    "#     'book_price' : book_price\n",
    "# }\n",
    "\n",
    "\n",
    "################\n",
    "################\n",
    "\n",
    "# optimized format\n",
    "df = pd.DataFrame({\n",
    "    'book_title' : book_title,\n",
    "    'book_price' : book_price\n",
    "})\n",
    "\n",
    "df"
   ]
  },
  {
   "cell_type": "code",
   "execution_count": 26,
   "metadata": {},
   "outputs": [],
   "source": [
    "# creates the dataset without the index column\n",
    "df.to_csv('livros_novos.csv', index=False)"
   ]
  }
 ],
 "metadata": {
  "kernelspec": {
   "display_name": "Python 3",
   "language": "python",
   "name": "python3"
  },
  "language_info": {
   "codemirror_mode": {
    "name": "ipython",
    "version": 3
   },
   "file_extension": ".py",
   "mimetype": "text/x-python",
   "name": "python",
   "nbconvert_exporter": "python",
   "pygments_lexer": "ipython3",
   "version": "3.12.2"
  }
 },
 "nbformat": 4,
 "nbformat_minor": 2
}
